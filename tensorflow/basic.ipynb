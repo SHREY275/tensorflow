{
 "cells": [
  {
   "cell_type": "markdown",
   "metadata": {},
   "source": [
    "# 1. Initializing Tensors\n",
    "# Creating a Basic Tensor"
   ]
  },
  {
   "cell_type": "code",
   "execution_count": 1,
   "metadata": {},
   "outputs": [],
   "source": [
    "import torch"
   ]
  },
  {
   "cell_type": "code",
   "execution_count": 2,
   "metadata": {},
   "outputs": [
    {
     "name": "stdout",
     "output_type": "stream",
     "text": [
      "tensor([[1., 2., 3.],\n",
      "        [4., 5., 6.]])\n"
     ]
    }
   ],
   "source": [
    "# Creating a 2x3 tensor\n",
    "my_tensor = torch.tensor([[1, 2, 3], [4, 5, 6]], dtype=torch.float32)\n",
    "print(my_tensor)"
   ]
  },
  {
   "cell_type": "code",
   "execution_count": 3,
   "metadata": {},
   "outputs": [
    {
     "name": "stdout",
     "output_type": "stream",
     "text": [
      "Data Type: torch.float32\n",
      "Device: cpu\n",
      "Shape: torch.Size([2, 3])\n",
      "Requires Gradient: False\n"
     ]
    }
   ],
   "source": [
    "print(f\"Data Type: {my_tensor.dtype}\")\n",
    "print(f\"Device: {my_tensor.device}\")\n",
    "print(f\"Shape: {my_tensor.shape}\")\n",
    "print(f\"Requires Gradient: {my_tensor.requires_grad}\")"
   ]
  },
  {
   "cell_type": "code",
   "execution_count": 5,
   "metadata": {},
   "outputs": [
    {
     "name": "stdout",
     "output_type": "stream",
     "text": [
      "tensor([[0., 0., 0.],\n",
      "        [0., 0., 0.],\n",
      "        [0., 0., 0.]])\n",
      "tensor([[0., 0., 0.],\n",
      "        [0., 0., 0.],\n",
      "        [0., 0., 0.]])\n",
      "tensor([[0.2726, 0.4348, 0.8536],\n",
      "        [0.4494, 0.2627, 0.9172],\n",
      "        [0.2147, 0.4503, 0.3313]])\n",
      "tensor([[1., 0., 0.],\n",
      "        [0., 1., 0.],\n",
      "        [0., 0., 1.]])\n"
     ]
    }
   ],
   "source": [
    "x_empty = torch.empty(3, 3)        # Uninitialized 3x3 tensor\n",
    "x_zeros = torch.zeros(3, 3)       # 3x3 tensor filled with zeros\n",
    "x_random = torch.rand(3, 3)       # Random values in [0, 1)\n",
    "x_identity = torch.eye(3)         # 3x3 identity matrix\n",
    "\n",
    "\n",
    "print(x_empty)\n",
    "print(x_zeros)\n",
    "print(x_random)\n",
    "print(x_identity)"
   ]
  },
  {
   "cell_type": "markdown",
   "metadata": {},
   "source": [
    "# 2. Tensor Mathematical Operations\n",
    "# Basic Arithmetic Operations\n",
    "# PyTorch allows simple operations like addition, subtraction, multiplication, and division:"
   ]
  },
  {
   "cell_type": "code",
   "execution_count": 6,
   "metadata": {},
   "outputs": [],
   "source": [
    "x = torch.tensor([1, 2, 3])\n",
    "y = torch.tensor([4, 5, 6])"
   ]
  },
  {
   "cell_type": "code",
   "execution_count": 9,
   "metadata": {},
   "outputs": [
    {
     "name": "stdout",
     "output_type": "stream",
     "text": [
      " Addition: tensor([5, 7, 9])\n",
      " Subtraction: tensor([-3, -3, -3])\n",
      " Multiplication: tensor([ 4, 10, 18])\n",
      " Division: tensor([0.2500, 0.4000, 0.5000])\n"
     ]
    }
   ],
   "source": [
    "z_add = x + y          # Element-wise addition\n",
    "z_sub = x - y          # Element-wise subtraction\n",
    "z_mul = x * y          # Element-wise multiplication\n",
    "z_div = x / y          # Element-wise division\n",
    "\n",
    "print(f\" Addition: {z_add}\")\n",
    "print(f\" Subtraction: {z_sub}\")\n",
    "print(f\" Multiplication: {z_mul}\")\n",
    "print(f\" Division: {z_div}\")"
   ]
  },
  {
   "cell_type": "code",
   "execution_count": 10,
   "metadata": {},
   "outputs": [],
   "source": [
    "# matrix multiplication\n",
    "# For matrix operations, use torch.mm or the @ operator:\n",
    "\n",
    "x1 = torch.rand(2, 3)\n",
    "x2 = torch.rand(3, 2)"
   ]
  },
  {
   "cell_type": "code",
   "execution_count": 13,
   "metadata": {},
   "outputs": [
    {
     "name": "stdout",
     "output_type": "stream",
     "text": [
      "tensor([[0.6124, 0.9956],\n",
      "        [0.5891, 0.9284]])\n",
      "tensor([[0.6124, 0.9956],\n",
      "        [0.5891, 0.9284]])\n"
     ]
    }
   ],
   "source": [
    "# Matrix multiplication\n",
    "result1 = torch.mm(x1, x2)\n",
    "# Equivalent:\n",
    "result2 = x1 @ x2\n",
    "\n",
    "print(result1)\n",
    "print(result2)"
   ]
  },
  {
   "cell_type": "code",
   "execution_count": 19,
   "metadata": {},
   "outputs": [
    {
     "name": "stdout",
     "output_type": "stream",
     "text": [
      "tensor([2, 3, 4])\n"
     ]
    }
   ],
   "source": [
    "# In-Place Operations\n",
    "# Use operations ending with _ (like add_) to modify a tensor in-place:\n",
    "\n",
    "x = torch.tensor([1, 2, 3])\n",
    "x.add_(1)  # Adds 1 to each element of x\n",
    "print(x)   # tensor([2, 3, 4])\n"
   ]
  },
  {
   "cell_type": "code",
   "execution_count": 20,
   "metadata": {},
   "outputs": [
    {
     "name": "stdout",
     "output_type": "stream",
     "text": [
      "tensor([4, 5, 6])\n"
     ]
    }
   ],
   "source": [
    "x.add_(2)\n",
    "print(x)"
   ]
  },
  {
   "cell_type": "markdown",
   "metadata": {},
   "source": [
    "# 3. Tensor Indexing\n",
    "# Accessing Elements\n",
    "<!-- Tensors can be indexed like lists or NumPy arrays: -->"
   ]
  },
  {
   "cell_type": "code",
   "execution_count": 21,
   "metadata": {},
   "outputs": [],
   "source": [
    "x = torch.tensor([[1, 2, 3], [4, 5, 6]])"
   ]
  },
  {
   "cell_type": "code",
   "execution_count": 23,
   "metadata": {},
   "outputs": [
    {
     "name": "stdout",
     "output_type": "stream",
     "text": [
      "tensor(1)\n",
      "tensor([2, 5])\n",
      "tensor([4, 5, 6])\n",
      "tensor(6)\n"
     ]
    }
   ],
   "source": [
    "# Access specific elements\n",
    "print(x[0, 0])  # First element (1)\n",
    "print(x[:, 1])  # Second column ([2, 5])\n",
    "print(x[1, :])  # Second row ([4, 5, 6])\n",
    "print(x[1, 2])  # Last element (6)"
   ]
  },
  {
   "cell_type": "code",
   "execution_count": 25,
   "metadata": {},
   "outputs": [
    {
     "name": "stdout",
     "output_type": "stream",
     "text": [
      "tensor([0, 1, 2, 3, 4, 5, 6, 7, 8, 9])\n"
     ]
    }
   ],
   "source": [
    "# Advanced Indexing\n",
    "# Use conditions or fancy indexing for more control:\n",
    "\n",
    "x = torch.arange(10)\n",
    "print(x)"
   ]
  },
  {
   "cell_type": "code",
   "execution_count": 31,
   "metadata": {},
   "outputs": [
    {
     "name": "stdout",
     "output_type": "stream",
     "text": [
      "tensor([0, 1, 2, 3, 4])\n",
      "tensor([0, 2, 4, 6, 8])\n",
      "tensor([5, 6, 7, 8, 9])\n",
      "tensor([0, 4, 8])\n",
      "tensor([1, 3, 5, 7, 9])\n"
     ]
    }
   ],
   "source": [
    "# Elements less than 5\n",
    "print(x[x < 5])  # tensor([0, 1, 2, 3, 4])\n",
    "# Even numbers\n",
    "print(x[x % 2 == 0])  # tensor([0, 2, 4, 6, 8])\n",
    "# Element greater than 5\n",
    "print(x[x >= 5])\n",
    "# Multiples of 4\n",
    "print(x[x % 4 == 0])\n",
    "# Odd numbers\n",
    "print(x[x % 2 != 0])"
   ]
  },
  {
   "cell_type": "markdown",
   "metadata": {},
   "source": [
    "# 4. Tensor Reshaping\n",
    "# Changing Tensor Shape\n",
    "<!-- Use view() or reshape() to reshape tensors: -->"
   ]
  },
  {
   "cell_type": "code",
   "execution_count": 32,
   "metadata": {},
   "outputs": [
    {
     "name": "stdout",
     "output_type": "stream",
     "text": [
      "tensor([0, 1, 2, 3, 4, 5, 6, 7, 8])\n"
     ]
    }
   ],
   "source": [
    "y = torch.arange(9)\n",
    "print(y)"
   ]
  },
  {
   "cell_type": "code",
   "execution_count": 38,
   "metadata": {},
   "outputs": [
    {
     "name": "stdout",
     "output_type": "stream",
     "text": [
      "view : tensor([[0, 1, 2],\n",
      "        [3, 4, 5],\n",
      "        [6, 7, 8]])\n",
      "reshape: tensor([[0, 1, 2],\n",
      "        [3, 4, 5],\n",
      "        [6, 7, 8]])\n"
     ]
    }
   ],
   "source": [
    "# Reshape into 3x3 matrix\n",
    "x_reshaped = y.view(3, 3)\n",
    "print(f\"view : {x_reshaped}\")\n",
    "y_reshape = y.reshape(3, 3)\n",
    "print(f\"reshape: {y_reshape}\")"
   ]
  },
  {
   "cell_type": "code",
   "execution_count": 51,
   "metadata": {},
   "outputs": [
    {
     "name": "stdout",
     "output_type": "stream",
     "text": [
      "tensor([[0, 1, 2],\n",
      "        [3, 4, 5],\n",
      "        [6, 7, 8]])\n",
      "flat: tensor([0, 1, 2, 3, 4, 5, 6, 7, 8])\n",
      "unsqueezed: tensor([[0, 1, 2, 3, 4, 5, 6, 7, 8]])\n",
      "squeezed: tensor([0, 1, 2, 3, 4, 5, 6, 7, 8])\n"
     ]
    }
   ],
   "source": [
    "# Flattening and Adding Dimensions\n",
    "# Flattening: Convert a tensor into a 1D vector.\n",
    "# Unsqueeze: Add an extra dimension.\n",
    "# Squeeze: Remove dimensions with size 1.\n",
    "\n",
    "\n",
    "x = torch.arange(9).view(3, 3)\n",
    "print(x)\n",
    "flat = x.view(-1)  # Flattened\n",
    "unsqueezed = flat.unsqueeze(0)  # Add a dimension\n",
    "squeezed = unsqueezed.squeeze(0)  # Remove dimension\n",
    "\n",
    "print(f\"flat: {flat}\")\n",
    "print(f\"unsqueezed: {unsqueezed}\")\n",
    "print(f\"squeezed: {squeezed}\")"
   ]
  },
  {
   "cell_type": "markdown",
   "metadata": {},
   "source": [
    "# 5. Advanced Operations\n",
    "# Broadcasting\n",
    "<!-- Broadcasting automatically aligns tensor shapes for operations: -->"
   ]
  },
  {
   "cell_type": "code",
   "execution_count": 52,
   "metadata": {},
   "outputs": [],
   "source": [
    "x1 = torch.rand(5, 5)\n",
    "x2 = torch.rand(1, 5)"
   ]
  },
  {
   "cell_type": "code",
   "execution_count": 53,
   "metadata": {},
   "outputs": [
    {
     "name": "stdout",
     "output_type": "stream",
     "text": [
      "tensor([[0.1881, 0.8591, 0.6338, 0.8968, 0.7084],\n",
      "        [0.2951, 0.5278, 0.6861, 0.7796, 0.8519],\n",
      "        [0.9376, 0.8551, 0.4216, 0.6040, 0.0802],\n",
      "        [0.2573, 0.6842, 0.9115, 0.4479, 0.6866],\n",
      "        [0.0407, 0.8237, 0.7480, 0.0421, 0.9256]])\n",
      "tensor([[0.5204, 0.3934, 0.0971, 0.7871, 0.9447]])\n"
     ]
    }
   ],
   "source": [
    "print(x1)\n",
    "print(x2)"
   ]
  },
  {
   "cell_type": "code",
   "execution_count": 55,
   "metadata": {},
   "outputs": [
    {
     "name": "stdout",
     "output_type": "stream",
     "text": [
      "tensor([[-0.3324,  0.4657,  0.5367,  0.1097, -0.2363],\n",
      "        [-0.2253,  0.1343,  0.5890, -0.0076, -0.0928],\n",
      "        [ 0.4172,  0.4617,  0.3246, -0.1831, -0.8645],\n",
      "        [-0.2631,  0.2908,  0.8144, -0.3393, -0.2581],\n",
      "        [-0.4797,  0.4302,  0.6509, -0.7451, -0.0191]])\n"
     ]
    }
   ],
   "source": [
    "# Broadcasting x2 to match x1\n",
    "result = x1 - x2\n",
    "print(result)"
   ]
  },
  {
   "cell_type": "markdown",
   "metadata": {},
   "source": [
    "# Device Management: GPU vs CPU\n",
    "<!-- Use .to(device) to move tensors between CPU and GPU: -->"
   ]
  },
  {
   "cell_type": "code",
   "execution_count": 56,
   "metadata": {},
   "outputs": [
    {
     "name": "stdout",
     "output_type": "stream",
     "text": [
      "cpu\n"
     ]
    }
   ],
   "source": [
    "device = \"cuda\" if torch.cuda.is_available() else \"cpu\"\n",
    "x = torch.tensor([1, 2, 3]).to(device)\n",
    "print(x.device)  # cuda or cpu"
   ]
  },
  {
   "cell_type": "markdown",
   "metadata": {},
   "source": [
    "# Converting Tensors and NumPy Arrays\n",
    "<!-- Seamlessly switch between PyTorch tensors and NumPy arrays: -->"
   ]
  },
  {
   "cell_type": "code",
   "execution_count": 58,
   "metadata": {},
   "outputs": [
    {
     "name": "stdout",
     "output_type": "stream",
     "text": [
      "tensor([[0., 0., 0.],\n",
      "        [0., 0., 0.],\n",
      "        [0., 0., 0.]], dtype=torch.float64)\n",
      "[[0. 0. 0.]\n",
      " [0. 0. 0.]\n",
      " [0. 0. 0.]]\n"
     ]
    }
   ],
   "source": [
    "import numpy as np\n",
    "\n",
    "# NumPy to Tensor\n",
    "np_array = np.zeros((3, 3))\n",
    "tensor = torch.from_numpy(np_array)\n",
    "# Tensor to NumPy\n",
    "np_array_back = tensor.numpy()\n",
    "\n",
    "print(tensor)\n",
    "print(np_array_back)"
   ]
  },
  {
   "cell_type": "code",
   "execution_count": null,
   "metadata": {},
   "outputs": [],
   "source": []
  }
 ],
 "metadata": {
  "kernelspec": {
   "display_name": "Python 3",
   "language": "python",
   "name": "python3"
  },
  "language_info": {
   "codemirror_mode": {
    "name": "ipython",
    "version": 3
   },
   "file_extension": ".py",
   "mimetype": "text/x-python",
   "name": "python",
   "nbconvert_exporter": "python",
   "pygments_lexer": "ipython3",
   "version": "3.12.5"
  }
 },
 "nbformat": 4,
 "nbformat_minor": 2
}

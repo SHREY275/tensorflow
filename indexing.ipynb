{
 "cells": [
  {
   "cell_type": "code",
   "execution_count": 1,
   "metadata": {},
   "outputs": [
    {
     "data": {
      "text/plain": [
       "<tf.Tensor: shape=(8,), dtype=int32, numpy=array([0, 1, 2, 3, 4, 5, 6, 7], dtype=int32)>"
      ]
     },
     "execution_count": 1,
     "metadata": {},
     "output_type": "execute_result"
    }
   ],
   "source": [
    "import tensorflow as tf\n",
    "t1 = tf.constant([0, 1, 2, 3, 4, 5, 6, 7])\n",
    "t1"
   ]
  },
  {
   "cell_type": "code",
   "execution_count": 2,
   "metadata": {},
   "outputs": [
    {
     "name": "stdout",
     "output_type": "stream",
     "text": [
      "tf.Tensor([1 2 3], shape=(3,), dtype=int32)\n"
     ]
    }
   ],
   "source": [
    "s1 = tf.slice(t1, begin=[1], size=[3])\n",
    "print(s1)  # Output: [1 2 3]"
   ]
  },
  {
   "cell_type": "code",
   "execution_count": 4,
   "metadata": {},
   "outputs": [
    {
     "name": "stdout",
     "output_type": "stream",
     "text": [
      "tf.Tensor([1 2 3], shape=(3,), dtype=int32)\n"
     ]
    }
   ],
   "source": [
    "# Pythonic Slicing:/\n",
    "\n",
    "s1 = t1[1:4]  # Same output as above\n",
    "print(s1)"
   ]
  },
  {
   "cell_type": "code",
   "execution_count": 6,
   "metadata": {},
   "outputs": [
    {
     "name": "stdout",
     "output_type": "stream",
     "text": [
      "tf.Tensor(\n",
      "[[0 1 2]\n",
      " [3 4 5]\n",
      " [6 7 8]], shape=(3, 3), dtype=int32)\n"
     ]
    }
   ],
   "source": [
    "t2 = tf.constant([[0, 1, 2],\n",
    "                  [3, 4, 5],\n",
    "                  [6, 7, 8]])\n",
    "print(t2)"
   ]
  },
  {
   "cell_type": "code",
   "execution_count": 7,
   "metadata": {},
   "outputs": [
    {
     "name": "stdout",
     "output_type": "stream",
     "text": [
      "First Row:\n",
      " tf.Tensor([[0 1 2]], shape=(1, 3), dtype=int32)\n",
      "\n",
      "Second Column:\n",
      " tf.Tensor(\n",
      "[[1]\n",
      " [4]\n",
      " [7]], shape=(3, 1), dtype=int32)\n",
      "\n",
      "Second & Third Columns:\n",
      " tf.Tensor(\n",
      "[[1 2]\n",
      " [4 5]\n",
      " [7 8]], shape=(3, 2), dtype=int32)\n"
     ]
    }
   ],
   "source": [
    "# Get the first row\n",
    "first_row = tf.slice(t2, [0, 0], [1, tf.shape(t2)[1]])\n",
    "print('First Row:\\n', first_row)\n",
    "\n",
    "# Get the second column\n",
    "second_column = tf.slice(t2, [0, 1], [tf.shape(t2)[0], 1])\n",
    "print('\\nSecond Column:\\n', second_column)\n",
    "\n",
    "# Get the second and third columns\n",
    "second_third_columns = tf.slice(t2, [0, 1], [tf.shape(t2)[0], 2])\n",
    "print('\\nSecond & Third Columns:\\n', second_third_columns)"
   ]
  },
  {
   "cell_type": "code",
   "execution_count": 12,
   "metadata": {},
   "outputs": [
    {
     "name": "stdout",
     "output_type": "stream",
     "text": [
      "tf.Tensor(\n",
      "[[[ 1  3  5  7]\n",
      "  [ 9 11 13 15]]\n",
      "\n",
      " [[17 19 21 23]\n",
      "  [25 27 29 31]]], shape=(2, 2, 4), dtype=int32)\n",
      "tf.Tensor([ 1 27 23], shape=(3,), dtype=int32)\n",
      "The value at index t3[0, 0, 0] : tf.Tensor(1, shape=(), dtype=int32)\n",
      "The value at index t3[1, 1, 1] : tf.Tensor(27, shape=(), dtype=int32)\n",
      "The value at index t3[1, 0, 3] : tf.Tensor(23, shape=(), dtype=int32)\n"
     ]
    }
   ],
   "source": [
    "# 2. Extracting tensors\n",
    "\n",
    "# advance picking\n",
    "\n",
    "t3 = tf.constant([[[1, 3, 5, 7],\n",
    "                   [9, 11, 13, 15]],\n",
    "                  [[17, 19, 21, 23],\n",
    "                   [25, 27, 29, 31]]])\n",
    "print(t3)\n",
    "\n",
    "\n",
    "Indices = [[0, 0, 0], [1, 1, 1], [1, 0, 3]]\n",
    "special_picks = tf.gather_nd(t3, indices=Indices, batch_dims=0)\n",
    "print(special_picks)\n",
    "\n",
    "print('The value at index t3[0, 0, 0] :',t3[Indices[0]])\n",
    "print('The value at index t3[1, 1, 1] :',t3[Indices[1]])\n",
    "print('The value at index t3[1, 0, 3] :',t3[Indices[2]])"
   ]
  },
  {
   "cell_type": "code",
   "execution_count": 15,
   "metadata": {},
   "outputs": [
    {
     "name": "stdout",
     "output_type": "stream",
     "text": [
      "tf.Tensor([0 0 0 0 0 0 0 0], shape=(8,), dtype=int32)\n",
      "tf.Tensor([ 0 10 20 25  0  0 30  0], shape=(8,), dtype=int32)\n"
     ]
    }
   ],
   "source": [
    "# inserting tensor\n",
    "\n",
    "# Meet tf.scatter_nd:\n",
    "import tensorflow as tf\n",
    "t4 = tf.zeros_like(tf.constant([0, 0, 0, 0, 0, 0, 0, 0]))\n",
    "print(t4)\n",
    "\n",
    "Index = [[1], [2], [3], [6]]\n",
    "values = [10, 20, 25, 30]\n",
    "t4 = tf.scatter_nd(indices=Index, \n",
    "                   updates=values, \n",
    "                   shape=[8])\n",
    "print(t4)  # Output: [0 10 20 25 0 0 30 0]"
   ]
  },
  {
   "cell_type": "code",
   "execution_count": 17,
   "metadata": {},
   "outputs": [
    {
     "name": "stdout",
     "output_type": "stream",
     "text": [
      "tf.Tensor(\n",
      "[[0. 0. 0. 0. 0.]\n",
      " [0. 0. 0. 0. 0.]\n",
      " [0. 0. 0. 0. 0.]\n",
      " [0. 0. 0. 0. 0.]], shape=(4, 5), dtype=float32)\n",
      "tf.Tensor(\n",
      "[[100   0   0   0   0]\n",
      " [  0 200   0   0   0]\n",
      " [  0   0 300   0   0]\n",
      " [  0   0   0   0   0]], shape=(4, 5), dtype=int32)\n"
     ]
    }
   ],
   "source": [
    "# Beyond Flat Land:\n",
    "t5 = tf.zeros(shape=(4, 5))\n",
    "print(t5)\n",
    "\n",
    "\n",
    "Index = [[0, 0], \n",
    "         [1, 1], \n",
    "         [2, 2]]\n",
    "values = [100, 200, 300]\n",
    "t5 = tf.scatter_nd(indices=Index, \n",
    "                   updates=values, \n",
    "                   shape=t5.shape)\n",
    "print(t5)  # Output: [[100 0 0 0 0], [0 200 0 0 0], [0 0 300 0 0], [0 0 0 0 0]]"
   ]
  },
  {
   "cell_type": "code",
   "execution_count": null,
   "metadata": {},
   "outputs": [],
   "source": []
  }
 ],
 "metadata": {
  "kernelspec": {
   "display_name": "tf_env",
   "language": "python",
   "name": "python3"
  },
  "language_info": {
   "codemirror_mode": {
    "name": "ipython",
    "version": 3
   },
   "file_extension": ".py",
   "mimetype": "text/x-python",
   "name": "python",
   "nbconvert_exporter": "python",
   "pygments_lexer": "ipython3",
   "version": "3.12.5"
  }
 },
 "nbformat": 4,
 "nbformat_minor": 2
}
